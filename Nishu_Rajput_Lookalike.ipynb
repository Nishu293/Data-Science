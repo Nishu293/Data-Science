{
  "nbformat": 4,
  "nbformat_minor": 0,
  "metadata": {
    "colab": {
      "provenance": []
    },
    "kernelspec": {
      "name": "python3",
      "display_name": "Python 3"
    },
    "language_info": {
      "name": "python"
    }
  },
  "cells": [
    {
      "cell_type": "code",
      "execution_count": 2,
      "metadata": {
        "id": "B4Zi0r1PnALq"
      },
      "outputs": [],
      "source": [
        "# Importing libraries\n",
        "import pandas as pd\n",
        "import numpy as np\n",
        "import matplotlib.pyplot as plt\n",
        "import seaborn as sns"
      ]
    },
    {
      "cell_type": "code",
      "source": [
        "customers = pd.read_csv('/content/Customers.csv')\n",
        "products = pd.read_csv('/content/Products.csv')\n",
        "transactions = pd.read_csv('/content/Transactions.csv')"
      ],
      "metadata": {
        "id": "WrknZA7PnrXV"
      },
      "execution_count": 3,
      "outputs": []
    },
    {
      "cell_type": "code",
      "source": [
        "# Merge datasets\n",
        "merged_data = transactions.merge(customers, on=\"CustomerID\").merge(products, on=\"ProductID\")\n",
        "\n",
        "# Inspect the merged data\n",
        "print(\"Merged Dataset:\\n\", merged_data.head())"
      ],
      "metadata": {
        "colab": {
          "base_uri": "https://localhost:8080/"
        },
        "id": "7AROnp4Cn3LY",
        "outputId": "61eb339e-4af9-462f-daf0-7c29a4cb4296"
      },
      "execution_count": 4,
      "outputs": [
        {
          "output_type": "stream",
          "name": "stdout",
          "text": [
            "Merged Dataset:\n",
            "   TransactionID CustomerID ProductID      TransactionDate  Quantity  \\\n",
            "0        T00001      C0199      P067  2024-08-25 12:38:23         1   \n",
            "1        T00112      C0146      P067  2024-05-27 22:23:54         1   \n",
            "2        T00166      C0127      P067  2024-04-25 07:38:55         1   \n",
            "3        T00272      C0087      P067  2024-03-26 22:55:37         2   \n",
            "4        T00363      C0070      P067  2024-03-21 15:10:10         3   \n",
            "\n",
            "   TotalValue  Price_x     CustomerName         Region  SignupDate  \\\n",
            "0      300.68   300.68   Andrea Jenkins         Europe  2022-12-03   \n",
            "1      300.68   300.68  Brittany Harvey           Asia  2024-09-04   \n",
            "2      300.68   300.68  Kathryn Stevens         Europe  2024-04-04   \n",
            "3      601.36   300.68  Travis Campbell  South America  2024-04-11   \n",
            "4      902.04   300.68    Timothy Perez         Europe  2022-03-15   \n",
            "\n",
            "                       ProductName     Category  Price_y  \n",
            "0  ComfortLiving Bluetooth Speaker  Electronics   300.68  \n",
            "1  ComfortLiving Bluetooth Speaker  Electronics   300.68  \n",
            "2  ComfortLiving Bluetooth Speaker  Electronics   300.68  \n",
            "3  ComfortLiving Bluetooth Speaker  Electronics   300.68  \n",
            "4  ComfortLiving Bluetooth Speaker  Electronics   300.68  \n"
          ]
        }
      ]
    },
    {
      "cell_type": "code",
      "source": [
        "# Aggregate transaction data\n",
        "customer_transactions = merged_data.groupby('CustomerID').agg({\n",
        "    'TotalValue': 'sum',        # Total spending\n",
        "    'Quantity': 'sum',          # Total quantity purchased\n",
        "    'ProductID': 'count'        # Total number of transactions\n",
        "}).rename(columns={\n",
        "    'TotalValue': 'TotalSpending',\n",
        "    'Quantity': 'TotalQuantity',\n",
        "    'ProductID': 'TransactionCount'\n",
        "}).reset_index()\n",
        "\n",
        "# Merge with customer demographic data\n",
        "lookalike_data = pd.merge(customers, customer_transactions, on='CustomerID', how='left')\n",
        "\n",
        "# Fill missing values\n",
        "lookalike_data.fillna(0, inplace=True)\n",
        "\n",
        "# Encode categorical variables\n",
        "lookalike_data = pd.get_dummies(lookalike_data, columns=['Region'], drop_first=True)\n",
        "\n",
        "# Standardize numerical features\n",
        "scaler = StandardScaler()\n",
        "numerical_features = ['TotalSpending', 'TotalQuantity', 'TransactionCount']\n",
        "lookalike_data[numerical_features] = scaler.fit_transform(lookalike_data[numerical_features])\n"
      ],
      "metadata": {
        "id": "K0aNNYasn5BO"
      },
      "execution_count": 5,
      "outputs": []
    },
    {
      "cell_type": "code",
      "source": [
        "# Compute cosine similarity matrix\n",
        "similarity_matrix = cosine_similarity(lookalike_data.drop(['CustomerID', 'CustomerName', 'SignupDate'], axis=1))\n",
        "\n",
        "# Convert to DataFrame for better interpretation\n",
        "similarity_df = pd.DataFrame(similarity_matrix, index=lookalike_data['CustomerID'], columns=lookalike_data['CustomerID'])\n"
      ],
      "metadata": {
        "id": "g7VC3VmhowUo"
      },
      "execution_count": 6,
      "outputs": []
    },
    {
      "cell_type": "code",
      "source": [
        "# Create recommendations\n",
        "lookalike_results = {}\n",
        "\n",
        "for customer_id in lookalike_data['CustomerID']:\n",
        "    similar_customers = similarity_df[customer_id].sort_values(ascending=False)[1:4]  # Exclude self\n",
        "    lookalike_results[customer_id] = list(similar_customers.index) + list(similar_customers.values)\n",
        "\n",
        "# Format as DataFrame\n",
        "lookalike_output = pd.DataFrame({\n",
        "    \"CustomerID\": lookalike_results.keys(),\n",
        "    \"SimilarCustomers\": [v[:3] for v in lookalike_results.values()],\n",
        "    \"Scores\": [v[3:] for v in lookalike_results.values()]\n",
        "})\n"
      ],
      "metadata": {
        "id": "ua8Ncqt_pNQS"
      },
      "execution_count": 7,
      "outputs": []
    },
    {
      "cell_type": "code",
      "source": [
        "# Save to CSV\n",
        "lookalike_output.to_csv('Nishu_Rajput_Lookalike.csv', index=False)"
      ],
      "metadata": {
        "id": "kwVLqbcipcj1"
      },
      "execution_count": 12,
      "outputs": []
    }
  ]
}